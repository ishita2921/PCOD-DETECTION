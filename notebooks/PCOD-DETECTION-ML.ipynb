{
 "cells": [
  {
   "cell_type": "markdown",
   "id": "d95eb80b-bef6-4025-992a-247e7434c479",
   "metadata": {},
   "source": [
    "## EDA (Exploratrory Data Analysis)"
   ]
  },
  {
   "cell_type": "code",
   "execution_count": 7,
   "id": "c13348e5-1d16-4db4-8152-414f9459bedc",
   "metadata": {},
   "outputs": [
    {
     "name": "stdout",
     "output_type": "stream",
     "text": [
      "   Sl. No  Patient File No.  PCOS (Y/N)    I   beta-HCG(mIU/mL)  \\\n",
      "0       1             10001           0                    1.99   \n",
      "1       2             10002           0                   60.80   \n",
      "2       3             10003           1                  494.08   \n",
      "3       4             10004           0                    1.99   \n",
      "4       5             10005           0                  801.45   \n",
      "\n",
      "   II    beta-HCG(mIU/mL) AMH(ng/mL)  \n",
      "0                    1.99       2.07  \n",
      "1                    1.99       1.53  \n",
      "2                  494.08       6.63  \n",
      "3                    1.99       1.22  \n",
      "4                  801.45       2.26  \n"
     ]
    }
   ],
   "source": [
    "import pandas as pd\n",
    "df=pd.read_csv(\"../data/PCOS_data.csv\")\n",
    "print(df.head())"
   ]
  },
  {
   "cell_type": "code",
   "execution_count": 8,
   "id": "f1a110cf-3494-4ea0-ae1d-0f9bf86176c7",
   "metadata": {},
   "outputs": [
    {
     "name": "stdout",
     "output_type": "stream",
     "text": [
      "Shape of the dataset: (541, 6)\n",
      "\n",
      "Data Info:\n",
      "<class 'pandas.core.frame.DataFrame'>\n",
      "RangeIndex: 541 entries, 0 to 540\n",
      "Data columns (total 6 columns):\n",
      " #   Column                  Non-Null Count  Dtype  \n",
      "---  ------                  --------------  -----  \n",
      " 0   Sl. No                  541 non-null    int64  \n",
      " 1   Patient File No.        541 non-null    int64  \n",
      " 2   PCOS (Y/N)              541 non-null    int64  \n",
      " 3     I   beta-HCG(mIU/mL)  541 non-null    float64\n",
      " 4   II    beta-HCG(mIU/mL)  541 non-null    float64\n",
      " 5   AMH(ng/mL)              541 non-null    object \n",
      "dtypes: float64(2), int64(3), object(1)\n",
      "memory usage: 25.5+ KB\n",
      "None\n"
     ]
    }
   ],
   "source": [
    "print(\"Shape of the dataset:\",df.shape)\n",
    "\n",
    "print(\"\\nData Info:\")\n",
    "print(df.info())"
   ]
  },
  {
   "cell_type": "code",
   "execution_count": 9,
   "id": "26d3c085-3de1-44ae-90fb-5c9da50e5bef",
   "metadata": {},
   "outputs": [
    {
     "name": "stdout",
     "output_type": "stream",
     "text": [
      "\n",
      "Descriptive Statistics:\n",
      "           Sl. No  Patient File No.  PCOS (Y/N)    I   beta-HCG(mIU/mL)  \\\n",
      "count  541.000000        541.000000  541.000000              541.000000   \n",
      "mean   271.000000      10271.000000    0.327172              664.549235   \n",
      "std    156.317519        156.317519    0.469615             3348.920576   \n",
      "min      1.000000      10001.000000    0.000000                1.300000   \n",
      "25%    136.000000      10136.000000    0.000000                1.990000   \n",
      "50%    271.000000      10271.000000    0.000000               20.000000   \n",
      "75%    406.000000      10406.000000    1.000000              297.210000   \n",
      "max    541.000000      10541.000000    1.000000            32460.970000   \n",
      "\n",
      "       II    beta-HCG(mIU/mL)  \n",
      "count              541.000000  \n",
      "mean               238.229518  \n",
      "std               1603.826221  \n",
      "min                  0.110417  \n",
      "25%                  1.990000  \n",
      "50%                  1.990000  \n",
      "75%                 97.630000  \n",
      "max              25000.000000  \n"
     ]
    }
   ],
   "source": [
    "print(\"\\nDescriptive Statistics:\")\n",
    "print(df.describe())"
   ]
  },
  {
   "cell_type": "code",
   "execution_count": 10,
   "id": "ad4b36b3-1070-4424-b16c-6a69183ecb1c",
   "metadata": {},
   "outputs": [
    {
     "name": "stdout",
     "output_type": "stream",
     "text": [
      "\n",
      "Missing values in each column\n",
      "Sl. No                    0\n",
      "Patient File No.          0\n",
      "PCOS (Y/N)                0\n",
      "  I   beta-HCG(mIU/mL)    0\n",
      "II    beta-HCG(mIU/mL)    0\n",
      "AMH(ng/mL)                0\n",
      "dtype: int64\n"
     ]
    }
   ],
   "source": [
    "print(\"\\nMissing values in each column\")\n",
    "print(df.isnull().sum())"
   ]
  },
  {
   "cell_type": "code",
   "execution_count": 11,
   "id": "45a5bce3-d4af-448d-8fc6-f2732805fd36",
   "metadata": {},
   "outputs": [
    {
     "name": "stdout",
     "output_type": "stream",
     "text": [
      "\n",
      "Target Variable Distribution:\n",
      "PCOS (Y/N)\n",
      "0    364\n",
      "1    177\n",
      "Name: count, dtype: int64\n"
     ]
    }
   ],
   "source": [
    "print(\"\\nTarget Variable Distribution:\")\n",
    "print(df['PCOS (Y/N)'].value_counts())"
   ]
  },
  {
   "cell_type": "code",
   "execution_count": 12,
   "id": "5d72aeab-c906-452e-b056-43a10e08020a",
   "metadata": {},
   "outputs": [],
   "source": [
    "with open(\"eda_summary.txt\",\"w\") as f:\n",
    "    df.info(buf=f)\n",
    "    f.write(\"\\n\\n\")\n",
    "    f.write(str(df.describe()))\n",
    "    f.write(\"\\n\\n\")\n",
    "    f.write(\"Missing Values:\\n\")\n",
    "    f.write(str(df.isnull().sum()))"
   ]
  },
  {
   "cell_type": "markdown",
   "id": "b862f36f-2146-494c-9aeb-886b7a36ad90",
   "metadata": {},
   "source": [
    "## Data Cleaning"
   ]
  },
  {
   "cell_type": "code",
   "execution_count": 28,
   "id": "2bf58cf4-6a4a-4e04-955e-2349c7619c5a",
   "metadata": {},
   "outputs": [
    {
     "name": "stdout",
     "output_type": "stream",
     "text": [
      "Sl._No                    0\n",
      "PCOS_(Y/N)                0\n",
      "I___beta-HCG(mIU/mL)      0\n",
      "II____beta-HCG(mIU/mL)    0\n",
      "AMH(ng/mL)                0\n",
      "dtype: int64\n"
     ]
    }
   ],
   "source": [
    "import pandas as pd\n",
    "#droping the null values if any\n",
    "print(df.isnull().sum())"
   ]
  },
  {
   "cell_type": "code",
   "execution_count": 29,
   "id": "53a47f28-a868-4bad-a865-210c068af6a8",
   "metadata": {},
   "outputs": [],
   "source": [
    "df.dropna(inplace=True)"
   ]
  },
  {
   "cell_type": "code",
   "execution_count": 30,
   "id": "e65fc27c-e4c9-4cd6-8e5f-1cfb2258564d",
   "metadata": {},
   "outputs": [
    {
     "data": {
      "text/plain": [
       "Index(['PCOS_(Y/N)', 'I___beta-HCG(mIU/mL)', 'II____beta-HCG(mIU/mL)',\n",
       "       'AMH(ng/mL)'],\n",
       "      dtype='object')"
      ]
     },
     "execution_count": 30,
     "metadata": {},
     "output_type": "execute_result"
    }
   ],
   "source": [
    "#droping irrevalent columns\n",
    "df.drop(columns=['Sl._No','Patient File No.'],inplace=True,errors='ignore')\n",
    "df.columns\n"
   ]
  },
  {
   "cell_type": "code",
   "execution_count": 31,
   "id": "0dbb777d-a137-46f2-a883-a6098e6ccc1c",
   "metadata": {},
   "outputs": [
    {
     "name": "stdout",
     "output_type": "stream",
     "text": [
      "Cleaned column names:\n",
      "Index(['PCOS_(Y/N)', 'I___beta-HCG(mIU/mL)', 'II____beta-HCG(mIU/mL)',\n",
      "       'AMH(ng/mL)'],\n",
      "      dtype='object')\n"
     ]
    }
   ],
   "source": [
    "#strip spaces and fix column names\n",
    "df.columns = df.columns.str.strip().str.replace(r'\\s+', '_', regex=True)\n",
    "\n",
    "print(\"Cleaned column names:\")\n",
    "print(df.columns)"
   ]
  },
  {
   "cell_type": "code",
   "execution_count": 32,
   "id": "8ca2878a-e97f-4345-959f-01ff60cd1615",
   "metadata": {},
   "outputs": [
    {
     "name": "stdout",
     "output_type": "stream",
     "text": [
      "✅ Cleaned dataset saved as 'processed_data.csv'\n"
     ]
    }
   ],
   "source": [
    "df.to_csv('processed_data.csv', index=False)\n",
    "print(\"✅ Cleaned dataset saved as 'processed_data.csv'\")"
   ]
  },
  {
   "cell_type": "code",
   "execution_count": null,
   "id": "2bfacc48-b275-49e0-897e-71bcd027f36a",
   "metadata": {},
   "outputs": [],
   "source": []
  }
 ],
 "metadata": {
  "kernelspec": {
   "display_name": "Python 3 (ipykernel)",
   "language": "python",
   "name": "python3"
  },
  "language_info": {
   "codemirror_mode": {
    "name": "ipython",
    "version": 3
   },
   "file_extension": ".py",
   "mimetype": "text/x-python",
   "name": "python",
   "nbconvert_exporter": "python",
   "pygments_lexer": "ipython3",
   "version": "3.12.4"
  }
 },
 "nbformat": 4,
 "nbformat_minor": 5
}
